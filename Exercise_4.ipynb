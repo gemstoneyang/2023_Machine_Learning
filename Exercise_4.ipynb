{
  "nbformat": 4,
  "nbformat_minor": 0,
  "metadata": {
    "colab": {
      "provenance": [],
      "authorship_tag": "ABX9TyNVbctFck6iIhXlX/0TGyv3"
    },
    "kernelspec": {
      "name": "python3",
      "display_name": "Python 3"
    },
    "language_info": {
      "name": "python"
    }
  },
  "cells": [
    {
      "cell_type": "markdown",
      "source": [
        "# Mutual Infomation\n",
        "## sklearn.metrics.mutual_info_score()"
      ],
      "metadata": {
        "id": "h2AXkVZ59X3n"
      }
    },
    {
      "cell_type": "code",
      "source": [
        "# Import library of mutual_info_score\n",
        "from sklearn.metrics import mutual_info_score\n",
        "\n",
        "# Given two clustering\n",
        "labels_ture = [0, 0, 1, 1]\n",
        "labels_pred = [0, 1, 1, 1]\n",
        "\n",
        "# Compute the mutual infomation score\n",
        "print(mutual_info_score(labels_ture, labels_pred))"
      ],
      "metadata": {
        "colab": {
          "base_uri": "https://localhost:8080/"
        },
        "id": "qH8lhAC99VNg",
        "outputId": "964af24b-4ae1-4cc6-8859-c45a24d6f92e"
      },
      "execution_count": null,
      "outputs": [
        {
          "output_type": "stream",
          "name": "stdout",
          "text": [
            "0.21576155433883565\n"
          ]
        }
      ]
    },
    {
      "cell_type": "markdown",
      "source": [
        "## Perfect match clusters\n",
        "### example of two clusters"
      ],
      "metadata": {
        "id": "O5FbpXFs90GR"
      }
    },
    {
      "cell_type": "code",
      "source": [
        "# Given two clusterings\n",
        "labels_ture = [0, 0, 1 ,1]\n",
        "labels_pred = [0, 0, 1, 1]\n",
        "\n",
        "# Compute the mutual information score\n",
        "print(mutual_info_score(labels_ture, labels_pred))"
      ],
      "metadata": {
        "colab": {
          "base_uri": "https://localhost:8080/"
        },
        "id": "QSiB2WPW93uO",
        "outputId": "698ca1a5-55f9-4af2-caca-157c95ff32f1"
      },
      "execution_count": null,
      "outputs": [
        {
          "output_type": "stream",
          "name": "stdout",
          "text": [
            "0.6931471805599453\n"
          ]
        }
      ]
    },
    {
      "cell_type": "markdown",
      "source": [
        "### example of three clusters"
      ],
      "metadata": {
        "id": "MSCSk0jJ-LII"
      }
    },
    {
      "cell_type": "code",
      "source": [
        "# Given three clusterings\n",
        "labels_ture = [0, 0, 1 ,1, 2, 2]\n",
        "labels_pred = [0, 0, 1, 1, 2, 2]\n",
        "\n",
        "# Compute the mutual information score\n",
        "print(mutual_info_score(labels_ture, labels_pred))"
      ],
      "metadata": {
        "colab": {
          "base_uri": "https://localhost:8080/"
        },
        "id": "2hdgGwGL-JEA",
        "outputId": "b462ad7e-064c-45e5-ed65-f8322106f283"
      },
      "execution_count": null,
      "outputs": [
        {
          "output_type": "stream",
          "name": "stdout",
          "text": [
            "1.0986122886681096\n"
          ]
        }
      ]
    },
    {
      "cell_type": "markdown",
      "source": [
        "## Normalized_mutual_info_score"
      ],
      "metadata": {
        "id": "X_Fs-TFU-Xun"
      }
    },
    {
      "cell_type": "code",
      "source": [
        "# Import library of normalized_mutual_info_score\n",
        "from sklearn.metrics import normalized_mutual_info_score"
      ],
      "metadata": {
        "id": "UJEiV7jn-caP"
      },
      "execution_count": null,
      "outputs": []
    },
    {
      "cell_type": "markdown",
      "source": [
        "### example of two clusters"
      ],
      "metadata": {
        "id": "gwuWiVlU-oIh"
      }
    },
    {
      "cell_type": "code",
      "source": [
        "# Given two clusterings\n",
        "labels_ture = [0, 0, 1 ,1]\n",
        "labels_pred = [0, 0, 1, 1]\n",
        "\n",
        "# Compute the mutual information score\n",
        "print(normalized_mutual_info_score(labels_ture, labels_pred))"
      ],
      "metadata": {
        "colab": {
          "base_uri": "https://localhost:8080/"
        },
        "outputId": "ef82d95b-a644-4cad-e070-f1687cebb2bb",
        "id": "2etPgiqx-mjk"
      },
      "execution_count": null,
      "outputs": [
        {
          "output_type": "stream",
          "name": "stdout",
          "text": [
            "1.0\n"
          ]
        }
      ]
    },
    {
      "cell_type": "markdown",
      "source": [
        "### example of three clusters"
      ],
      "metadata": {
        "id": "uRmFXRj8-mjm"
      }
    },
    {
      "cell_type": "code",
      "source": [
        "# Given three clusterings\n",
        "labels_ture = [0, 0, 1 ,1, 2, 2]\n",
        "labels_pred = [0, 0, 1, 1, 2, 2]\n",
        "\n",
        "# Compute the mutual information score\n",
        "print(normalized_mutual_info_score(labels_ture, labels_pred))"
      ],
      "metadata": {
        "colab": {
          "base_uri": "https://localhost:8080/"
        },
        "outputId": "19e77f0d-146e-4e30-9a97-b5d04ab41a5e",
        "id": "_tGbZQIl-mjm"
      },
      "execution_count": null,
      "outputs": [
        {
          "output_type": "stream",
          "name": "stdout",
          "text": [
            "1.0\n"
          ]
        }
      ]
    }
  ]
}