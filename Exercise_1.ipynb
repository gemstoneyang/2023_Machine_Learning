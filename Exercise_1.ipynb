{
  "nbformat": 4,
  "nbformat_minor": 0,
  "metadata": {
    "colab": {
      "provenance": [],
      "authorship_tag": "ABX9TyNA4QvSjL8YWMDSR7Vj5mGz",
      "include_colab_link": true
    },
    "kernelspec": {
      "name": "python3",
      "display_name": "Python 3"
    },
    "language_info": {
      "name": "python"
    }
  },
  "cells": [
    {
      "cell_type": "markdown",
      "metadata": {
        "id": "view-in-github",
        "colab_type": "text"
      },
      "source": [
        "<a href=\"https://colab.research.google.com/github/gemstoneyang/2023_Machine_Learning/blob/main/Exercise_1.ipynb\" target=\"_parent\"><img src=\"https://colab.research.google.com/assets/colab-badge.svg\" alt=\"Open In Colab\"/></a>"
      ]
    },
    {
      "cell_type": "markdown",
      "source": [
        "# Data visualization"
      ],
      "metadata": {
        "id": "xFFE-q_7CKdT"
      }
    },
    {
      "cell_type": "code",
      "source": [
        "import matplotlib.pyplot as plt\n",
        "import numpy as np"
      ],
      "metadata": {
        "id": "SUJW1Gr2BPhQ"
      },
      "execution_count": null,
      "outputs": []
    },
    {
      "cell_type": "markdown",
      "source": [
        "# Polynomial curve fitting"
      ],
      "metadata": {
        "id": "65FqpYJLCQx-"
      }
    },
    {
      "cell_type": "code",
      "source": [
        "\n",
        "# N: The number of data samples\n",
        "# M: The order of the polynomial function\n",
        "def polynomial_curve_fitting(x, t, N, M):\n",
        "  A = np.zeros((M+1, M+1))\n",
        "  tau = np.zeros((M+1, 1))\n",
        "\n",
        "  # Prepare matrix Aij\n",
        "  for i in range(0, M+1):\n",
        "    for j in range(0, M+1):\n",
        "      temp_sum_A = 0\n",
        "      for n in range(0, N):\n",
        "        temp_sum_A += x[n] ** (i+j)\n",
        "      A[i][j] = temp_sum_A\n",
        "\n",
        "  # Prepare vector tau\n",
        "  for i in range(0, M+1):\n",
        "    temp_sum_tau = 0\n",
        "    for n in range(0, N):\n",
        "      temp_sum_tau += (x[n]**i)*t[n]\n",
        "    tau[i] = temp_sum_tau\n",
        "\n",
        "  # 1: Closed-form solution\n",
        "  w = np.linalg.solve(A, tau) # Solve the linear matrix equation\n",
        "\n",
        "  # 2: Polynomial curve fitting solution\n",
        "  z = np.polyfit(x, t, M) # Polynomial fitting function in Numpy\n",
        "\n",
        "  # print('Polynomial coefficients (w) (Closed-form): \\n', w)\n",
        "  # print('Polynomial coefficients (w) (Fitting):', z)\n",
        "\n",
        "  # Generate data from age 0-12\n",
        "  x_pred = np.array([i for i in range(0, 13)]) # Age 0-12\n",
        "  y_pred = np.zeros(13)\n",
        "  for i, val in enumerate(x_pred):\n",
        "    for j in range(0, M+1):\n",
        "      y_pred[i] += w[j]*(val**(j)) # Calculate prediction\n",
        "  return y_pred\n"
      ],
      "metadata": {
        "id": "7GCumylECPeV"
      },
      "execution_count": null,
      "outputs": []
    },
    {
      "cell_type": "code",
      "source": [],
      "metadata": {
        "id": "PFjFRGADFjoh"
      },
      "execution_count": null,
      "outputs": []
    },
    {
      "cell_type": "markdown",
      "source": [
        "# Error calculation"
      ],
      "metadata": {
        "id": "GuglZZz-FYoA"
      }
    },
    {
      "cell_type": "code",
      "source": [
        "M_train = [i for i in range(1, 8)]\n",
        "E_train = []\n",
        "\n",
        "# Test error\n",
        "M_test = [i for i in range(1, 8)]\n",
        "E_test = []\n",
        "\n",
        "\n",
        "# Train data\n",
        "x = [i for i in range(0, 8)] # Generate age data\n",
        "t = [49.88, 75.74, 87.11, 96.49, 103.07, 109.58, 115.91, 122.05] # Generate height data\n",
        "\n",
        "# Test data\n",
        "x_test = [i for i in range(8, 13)]\n",
        "t_test = [127.87, 133.41, 138.84, 144.70, 151.42]\n",
        "\n",
        "for i in M_train:\n",
        "  y_pred = polynomial_curve_fitting(x, t, len(x), i)\n",
        "    # Training error\n",
        "  error = 0\n",
        "  for n in range(0, 8):\n",
        "    error += (y_pred[n] - t[n])**2\n",
        "  error *= 0.5\n",
        "  E_train.append(error)\n",
        "\n",
        "  test_error = 0\n",
        "  for n in range(8, 13):\n",
        "    test_error += (y_pred[n] - t_test[n-8])**2\n",
        "  test_error *= 0.5\n",
        "  E_test.append(test_error)\n"
      ],
      "metadata": {
        "id": "3RwsTqLgeNkp"
      },
      "execution_count": null,
      "outputs": []
    },
    {
      "cell_type": "code",
      "source": [
        "# Plotting function\n",
        "plt.plot(M_train, E_train)\n",
        "plt.title('Training error')\n",
        "plt.xlabel('M')\n",
        "plt.ylabel('Sum-of-Squares Error')\n",
        "plt.grid()"
      ],
      "metadata": {
        "colab": {
          "base_uri": "https://localhost:8080/",
          "height": 295
        },
        "id": "EIVlz6QIjOMh",
        "outputId": "39741ad5-1ada-425e-bb0e-17366a78f4fd"
      },
      "execution_count": null,
      "outputs": [
        {
          "output_type": "display_data",
          "data": {
            "text/plain": [
              "<Figure size 432x288 with 1 Axes>"
            ],
            "image/png": "[encoded data removed]"
          },
          "metadata": {
            "needs_background": "light"
          }
        }
      ]
    },
    {
      "cell_type": "code",
      "source": [
        "# Plotting function\n",
        "plt.plot(M_test, E_test)\n",
        "plt.title('Test error')\n",
        "plt.xlabel('M')\n",
        "plt.ylabel('Sum-of-Squares Error')\n",
        "plt.grid()"
      ],
      "metadata": {
        "id": "uYDiBZA_N1pA",
        "colab": {
          "base_uri": "https://localhost:8080/",
          "height": 295
        },
        "outputId": "da686524-d08b-4d55-ec91-f629db989f51"
      },
      "execution_count": null,
      "outputs": [
        {
          "output_type": "display_data",
          "data": {
            "text/plain": [
              "<Figure size 432x288 with 1 Axes>"
            ],
            "image/png": "[encoded data removed]"
          },
          "metadata": {
            "needs_background": "light"
          }
        }
      ]
    }
  ]
}