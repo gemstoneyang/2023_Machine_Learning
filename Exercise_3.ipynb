{
  "nbformat": 4,
  "nbformat_minor": 0,
  "metadata": {
    "colab": {
      "provenance": [],
      "authorship_tag": "ABX9TyO6HPxIYlutriGVB9/6Ls2a"
    },
    "kernelspec": {
      "name": "python3",
      "display_name": "Python 3"
    },
    "language_info": {
      "name": "python"
    }
  },
  "cells": [
    {
      "cell_type": "markdown",
      "source": [
        "# Binary Classification\n",
        "## Loading the dataset"
      ],
      "metadata": {
        "id": "_4Wy6m5PCpv7"
      }
    },
    {
      "cell_type": "code",
      "source": [
        "from sklearn import datasets\n",
        "iris = datasets.load_iris()\n",
        "\n",
        "# Capitalize the name\n",
        "iris['feature_names'] = [name.capitalize() for name in iris['feature_names']]\n",
        "iris['target_names'] = [name.capitalize() for name in iris['target_names']]\n",
        "\n",
        "print('Data shape\\t: {}'.format(iris['data'].shape))\n",
        "print('Column name\\t: {}'.format(iris['feature_names']))\n",
        "print('Total class\\t: {}'.format(len(iris['target_names'])))\n",
        "print('Class name\\t: {}'.format({i : iris['target_names'][i] for i in range(len(iris['target_names']))}))\n",
        "print('Sample target\\t: {}'.format(iris['target'][:5]))\n",
        "print('Sample data\\t: \\n{}'.format(iris['data'][:5]))\n"
      ],
      "metadata": {
        "colab": {
          "base_uri": "https://localhost:8080/"
        },
        "id": "eDbcS0dhCoIy",
        "outputId": "7436f567-f5c4-4c5b-8df8-2a710e91ea1f"
      },
      "execution_count": null,
      "outputs": [
        {
          "output_type": "stream",
          "name": "stdout",
          "text": [
            "Data shape\t: (150, 4)\n",
            "Column name\t: ['Sepal length (cm)', 'Sepal width (cm)', 'Petal length (cm)', 'Petal width (cm)']\n",
            "Total class\t: 3\n",
            "Class name\t: {0: 'Setosa', 1: 'Versicolor', 2: 'Virginica'}\n",
            "Sample target\t: [0 0 0 0 0]\n",
            "Sample data\t: \n",
            "[[5.1 3.5 1.4 0.2]\n",
            " [4.9 3.  1.4 0.2]\n",
            " [4.7 3.2 1.3 0.2]\n",
            " [4.6 3.1 1.5 0.2]\n",
            " [5.  3.6 1.4 0.2]]\n"
          ]
        }
      ]
    },
    {
      "cell_type": "markdown",
      "source": [
        "## Data preparation"
      ],
      "metadata": {
        "id": "KRwAK1_UELgn"
      }
    },
    {
      "cell_type": "code",
      "source": [
        "import matplotlib.pyplot as plt\n",
        "\n",
        "# Select only 'versicolor' and 'virginica' data\n",
        "versicolor_virginica_mask = (iris['target'] != 0)\n",
        "data = iris['data'][versicolor_virginica_mask]\n",
        "target = iris['target'][versicolor_virginica_mask]\n",
        "\n",
        "# Define colors for each target class\n",
        "colors = {1: 'b', 2: 'r'} # versicolor = blue, virginica = red\n",
        "\n",
        "# Create a scatter plot of the two features for each target class\n",
        "fig, ax = plt.subplots()\n",
        "for target_class in [1, 2]:\n",
        "  mask = (target == target_class)\n",
        "  ax.scatter(data[mask, 2], data[mask, 3], color=colors[target_class], label=iris['target_names'][target_class])\n",
        "\n",
        "# Set the title, x-axis and y-axis labels\n",
        "ax.set_title('Iris Dataset')\n",
        "ax.set_xlabel(iris['feature_names'][2])\n",
        "ax.set_ylabel(iris['feature_names'][3])\n",
        "\n",
        "# Show the legend and the plot\n",
        "ax.legend()\n",
        "plt.show()\n"
      ],
      "metadata": {
        "colab": {
          "base_uri": "https://localhost:8080/",
          "height": 295
        },
        "id": "MWIqxNmaDRc3",
        "outputId": "09690a04-1a1f-437e-e004-6d30567b8216"
      },
      "execution_count": null,
      "outputs": [
        {
          "output_type": "display_data",
          "data": {
            "text/plain": [
              "<Figure size 432x288 with 1 Axes>"
            ],
            "image/png": "[encoded data removed]"
          },
          "metadata": {
            "needs_background": "light"
          }
        }
      ]
    },
    {
      "cell_type": "markdown",
      "source": [
        "## Binary classification"
      ],
      "metadata": {
        "id": "lNVOvFm8GA93"
      }
    },
    {
      "cell_type": "code",
      "source": [
        "import numpy as np\n",
        "from sklearn.linear_model import LogisticRegression\n",
        "\n",
        "# Split the data into 50% training set and 50% test set\n",
        "data_length = len(data)\n",
        "\n",
        "index = np.arange(data_length)\n",
        "np.random.seed(2023)\n",
        "np.random.shuffle(index)\n",
        "train_index = index[:data_length//2]\n",
        "test_index = index[data_length//2:]\n",
        "\n",
        "# Train the model\n",
        "classifier = LogisticRegression(random_state=2023)\n",
        "classifier.fit(data[train_index], target[train_index])\n",
        "prediction = classifier.predict(data[test_index])\n",
        "print(prediction)"
      ],
      "metadata": {
        "colab": {
          "base_uri": "https://localhost:8080/"
        },
        "id": "1M_UT8P1F__o",
        "outputId": "dcf657b7-e259-4e08-b3b8-8bcd4b0eb7cc"
      },
      "execution_count": null,
      "outputs": [
        {
          "output_type": "stream",
          "name": "stdout",
          "text": [
            "[2 1 2 2 2 1 2 2 1 2 1 2 2 1 1 2 2 2 2 1 1 1 2 2 2 1 1 1 1 2 2 1 2 2 2 1 2\n",
            " 1 2 1 1 2 2 1 2 2 2 2 1 2]\n"
          ]
        }
      ]
    },
    {
      "cell_type": "markdown",
      "source": [
        "## Precision, recall, accuracy, and F1 score calculation"
      ],
      "metadata": {
        "id": "lkWcSblSHLWP"
      }
    },
    {
      "cell_type": "code",
      "source": [
        "from sklearn.metrics import classification_report\n",
        "\n",
        "target_names = iris['target_names'][1:] # Select only 'Versicolor' and 'Virginica'\n",
        "print(classification_report(target[test_index], prediction, target_names=target_names))"
      ],
      "metadata": {
        "colab": {
          "base_uri": "https://localhost:8080/"
        },
        "id": "f22dZtPVEuNW",
        "outputId": "044c3e57-8ebb-473a-ce6d-0e73fed4e9d1"
      },
      "execution_count": null,
      "outputs": [
        {
          "output_type": "stream",
          "name": "stdout",
          "text": [
            "              precision    recall  f1-score   support\n",
            "\n",
            "  Versicolor       0.95      0.95      0.95        20\n",
            "   Virginica       0.97      0.97      0.97        30\n",
            "\n",
            "    accuracy                           0.96        50\n",
            "   macro avg       0.96      0.96      0.96        50\n",
            "weighted avg       0.96      0.96      0.96        50\n",
            "\n"
          ]
        }
      ]
    },
    {
      "cell_type": "markdown",
      "source": [
        "# Exercise 3\n",
        "## Reproduce the following figures"
      ],
      "metadata": {
        "id": "nItSumdbI0Bn"
      }
    },
    {
      "cell_type": "code",
      "source": [
        "# Define colors for each target class\n",
        "colors = {1: 'b', 2: 'r'} # versicolor = blue, virginica = red\n",
        "\n",
        "# Create a scatter plot of the two features for each target class\n",
        "fig, (ax1, ax2) = plt.subplots(1, 2, figsize=(15, 4))\n",
        "\n",
        "# Create ground truth data graph\n",
        "t_data = data[test_index]\n",
        "t_target = target[test_index]\n",
        "\n",
        "for target_class in [1, 2]:\n",
        "  mask = (t_target == target_class)\n",
        "  ax2.scatter(t_data[mask, 2], t_data[mask, 3], color=colors[target_class], label=iris['target_names'][target_class])\n",
        "\n",
        "# Set the title, x-axis and y-axis labels\n",
        "ax2.set_title('Iris Dataset - Ground Truth')\n",
        "ax2.set_xlabel(iris['feature_names'][2])\n",
        "ax2.set_ylabel(iris['feature_names'][3])\n",
        "\n",
        "# add the legend of ground truth\n",
        "ax2.legend()\n",
        "\n",
        "\n",
        "# Create prediction data graph\n",
        "p_data = data[test_index]\n",
        "p_target = prediction\n",
        "\n",
        "# Create a scatter plot of the two features for each target class\n",
        "for target_class in [1, 2]:\n",
        "  mask = (p_target == target_class)\n",
        "  ax1.scatter(p_data[mask, 2], p_data[mask, 3], color=colors[target_class], label=iris['target_names'][target_class])\n",
        "\n",
        "# Set the title, x-axis and y-axis labels\n",
        "ax1.set_title('Iris Dataset - Prediction')\n",
        "ax1.set_xlabel(iris['feature_names'][2])\n",
        "ax1.set_ylabel(iris['feature_names'][3])\n",
        "\n",
        "# Show the legend and the plot\n",
        "ax1.legend()\n",
        "plt.subplots_adjust(wspace=0.3)\n",
        "plt.show()\n"
      ],
      "metadata": {
        "colab": {
          "base_uri": "https://localhost:8080/",
          "height": 279
        },
        "id": "BCkiH6UdIxIo",
        "outputId": "d837b939-b7ce-437a-f560-32b51965fd7e"
      },
      "execution_count": null,
      "outputs": [
        {
          "output_type": "display_data",
          "data": {
            "text/plain": [
              "<Figure size 1080x288 with 2 Axes>"
            ],
            "image/png": "[encoded data removed]"
          },
          "metadata": {
            "needs_background": "light"
          }
        }
      ]
    },
    {
      "cell_type": "markdown",
      "source": [
        "# 😎"
      ],
      "metadata": {
        "id": "oIWlzF6TRlJe"
      }
    }
  ]
}